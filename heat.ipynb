{
 "cells": [
  {
   "cell_type": "markdown",
   "metadata": {},
   "source": [
    "# The heat equation"
   ]
  },
  {
   "cell_type": "markdown",
   "metadata": {},
   "source": [
    "We will derive a discretization through the method of lines (MOL) of the heat equation :\n",
    "\n",
    "\\begin{equation} \n",
    "\\partial_t  T - \\partial^2_{xx} T = 0\n",
    "\\end{equation}\n",
    "\n",
    "The fundamental solution of the heat equation is equal to :\n",
    "\n",
    "$$\n",
    "T(x, t) = \\frac{1}{2\\sqrt{\\pi t}}\\,\\exp \\bigg(\\frac{-x^2}{4t} \\bigg) , x\\in\\mathbb{R}, \\, t>0\n",
    "$$\n",
    "\n",
    "In the following we will choose as initial condition a solution of the fundamental solution of the heat equation."
   ]
  },
  {
   "cell_type": "code",
   "execution_count": null,
   "metadata": {},
   "outputs": [],
   "source": [
    "from mylib.model import heat_model\n",
    "import mylib.integration as integration\n",
    "\n",
    "import numpy as np\n",
    "\n",
    "from bokeh.io import  output_notebook, push_notebook, show\n",
    "from bokeh.plotting import figure\n",
    "from bokeh.layouts import column\n",
    "\n",
    "output_notebook(hide_banner=True)"
   ]
  },
  {
   "cell_type": "markdown",
   "metadata": {},
   "source": [
    "## Rock4 integration "
   ]
  },
  {
   "cell_type": "code",
   "execution_count": null,
   "metadata": {
    "hidePrompt": true
   },
   "outputs": [],
   "source": [
    "def plot_rock_sol():\n",
    "\n",
    "    xmin = -2.\n",
    "    xmax = 2.\n",
    "    nx = 2001\n",
    "    x = np.linspace(xmin, xmax, nx)\n",
    "    \n",
    "    tini = 0.0001 \n",
    "    tend = 0.01             \n",
    "    \n",
    "    hm = heat_model(xmin=xmin, xmax=xmax, nx=nx)\n",
    "    fcn_rock  = hm.fcn_rock\n",
    "    fcn_radau  = hm.fcn_radau\n",
    "                        \n",
    "    yini = hm.fcn_exact(tini)\n",
    "    \n",
    "    yexa = hm.fcn_exact(tend)\n",
    "    \n",
    "    sol_radau = integration.radau5(tini, tend, yini, fcn_radau, njac=1, rtol=1.e-12, atol=1.e-12, iout=0)\n",
    "        \n",
    "    tol = 1.e-6\n",
    "    sol = integration.rock4(tini, tend, yini, fcn_rock, tol)\n",
    "\n",
    "    yerr_exa = np.abs(yexa - sol.y)\n",
    "    yerr_radau = np.abs(sol_radau.y - sol.y)\n",
    "    \n",
    "    fig_sol = figure(x_range=(xmin, xmax), plot_height=300, plot_width=950, title=\"Solution\")\n",
    "    fig_sol.x(x, sol.y)\n",
    "    fig_err = figure(x_range=(xmin, xmax), plot_height=300, plot_width=950, title=\"Global error\")\n",
    "    fig_err.line(x, yerr_exa, legend=\"Fundamental solution as exact solution\", color=\"green\")  \n",
    "    fig_err.x(x, yerr_radau,legend=\"Quasi exact solution (Radau5) as exact solution\", color=\"crimson\")\n",
    "    fig_err.legend.location = \"top_left\"\n",
    "    fig_err.legend.click_policy=\"hide\"\n",
    "\n",
    "    show(column(fig_sol, fig_err))\n",
    "    \n",
    "    print(f\"Number of function evaluations : {sol.nfev:d}\")\n",
    "    print(f\"Number of computed steps : {sol.nstep:d}\")\n",
    "    print(f\"Number of accepted steps : {sol.naccpt:d}\")\n",
    "    print(f\"Number of rejected steps : {sol.nrejct:d}\")\n",
    "    print(f\"Maximum number of stage used : {sol.nstage:d}\")\n",
    "    \n",
    "plot_rock_sol()"
   ]
  },
  {
   "cell_type": "markdown",
   "metadata": {},
   "source": [
    "## Rock4 integration (evolution of time step)"
   ]
  },
  {
   "cell_type": "code",
   "execution_count": null,
   "metadata": {},
   "outputs": [],
   "source": [
    "def plot_rock_dt_sol():\n",
    "\n",
    "    xmin = -2.\n",
    "    xmax = 2.\n",
    "    nx = 2001\n",
    "    x = np.linspace(xmin, xmax, nx)\n",
    "    \n",
    "    tini = 0.0001 \n",
    "    tend = 0.01             \n",
    "    \n",
    "    hm = heat_model(xmin=xmin, xmax=xmax, nx=nx)\n",
    "    fcn_rock  = hm.fcn_rock\n",
    "    fcn_radau  = hm.fcn_radau\n",
    "                        \n",
    "    yini = hm.fcn_exact(tini)\n",
    "    \n",
    "    yexa = hm.fcn_exact(tend)\n",
    "    \n",
    "    sol_radau = integration.radau5(tini, tend, yini, fcn_radau, njac=1, rtol=1.e-12, atol=1.e-12, iout=0)\n",
    "        \n",
    "    tol = 1.e-6\n",
    "    sol = integration.rock4(tini, tend, yini, fcn_rock, tol)\n",
    "    tsol = integration.rock4_dt(tini, tend, yini, fcn_rock, tol)\n",
    "\n",
    "    yerr_exa = np.abs(yexa - sol.y)\n",
    "    yerr_radau = np.abs(sol_radau.y - sol.y)\n",
    "\n",
    "    fig_sol = figure(x_range=(xmin, xmax), plot_height=300, plot_width=950, title=\"Solution\")\n",
    "    fig_sol.x(x, sol.y)\n",
    "    fig_err = figure(x_range=(xmin, xmax), plot_height=300, plot_width=950, title=\"Global error\")\n",
    "    fig_err.x(x, yerr_exa, legend=\"Fundamental solution as exact solution\", color=\"green\")  \n",
    "    fig_err.x(x, yerr_radau,legend=\"Quasi exact solution (Radau5) as exact solution\", color=\"crimson\")\n",
    "    fig_err.legend.location = \"top_left\"\n",
    "    fig_dt = figure(x_range=(tini, tend), plot_height=300, plot_width=950, title=\"Time step\")\n",
    "    fig_dt.x(tsol[1:sol.naccpt+1], tsol[1:sol.naccpt+1]-tsol[0:sol.naccpt])  \n",
    "\n",
    "    show(column(fig_sol, fig_err, fig_dt))\n",
    "    \n",
    "    print(f\"Number of function evaluations : {sol.nfev:d}\")\n",
    "    print(f\"Number of computed steps : {sol.nstep:d}\")\n",
    "    print(f\"Number of accepted steps : {sol.naccpt:d}\")\n",
    "    print(f\"Number of rejected steps : {sol.nrejct:d}\")\n",
    "    print(f\"Maximum number of stage used : {sol.nstage:d}\")\n",
    "    \n",
    "plot_rock_dt_sol()"
   ]
  },
  {
   "cell_type": "markdown",
   "metadata": {},
   "source": [
    "## Radau5 integration"
   ]
  },
  {
   "cell_type": "code",
   "execution_count": null,
   "metadata": {},
   "outputs": [],
   "source": [
    "def plot_radau_sol():\n",
    "\n",
    "    xmin = -2.\n",
    "    xmax = 2.\n",
    "    nx = 2001\n",
    "    x = np.linspace(xmin, xmax, nx)\n",
    "    \n",
    "    tini = 0.0001 \n",
    "    tend = 0.01             \n",
    "    \n",
    "    hm = heat_model(xmin=xmin, xmax=xmax, nx=nx)\n",
    "    fcn_radau  = hm.fcn_radau\n",
    "                        \n",
    "    yini = hm.fcn_exact(tini)\n",
    "    \n",
    "    yexa = hm.fcn_exact(tend)\n",
    "    \n",
    "    sol_radau = integration.radau5(tini, tend, yini, fcn_radau, njac=1, rtol=1.e-12, atol=1.e-12, iout=0)\n",
    "        \n",
    "    tol = 1.e-6\n",
    "    sol = integration.radau5(tini, tend, yini, fcn_radau, njac=1, rtol=1.e-12, atol=1.e-12, iout=0)\n",
    "    \n",
    "    yerr_exa = np.abs(yexa - sol.y)\n",
    "    yerr_radau = np.abs(sol_radau.y - sol.y)\n",
    "\n",
    "    fig_sol = figure(x_range=(xmin, xmax), plot_height=300, plot_width=950, title=\"Solution\")\n",
    "    fig_sol.x(x, sol.y)\n",
    "    fig_err = figure(x_range=(xmin, xmax), plot_height=300, plot_width=950, title=\"Global error\")\n",
    "    fig_err.x(x, yerr_exa, legend=\"Fundamental solution as exact solution\", color=\"green\")  \n",
    "    fig_err.x(x, yerr_radau,legend=\"Quasi exact solution (Radau5) as exact solution\", color=\"crimson\")\n",
    "    fig_err.legend.location = \"top_left\"\n",
    "\n",
    "\n",
    "    show(column(fig_sol, fig_err))\n",
    "    \n",
    "    print(f\"Number of function evaluations : {sol.nfev:d}\")\n",
    "    print(f\"Number of jacobian evaluations : {sol.njev:d}\")\n",
    "    print(f\"Number of computed steps : {sol.nstep:d}\")\n",
    "    print(f\"Number of accepted steps : {sol.naccpt:d}\")\n",
    "    print(f\"Number of rejected steps : {sol.nrejct:d}\")\n",
    "    print(f\"Number of LU decompositions : {sol.ndec:d}\")\n",
    "    print(f\"Number of forward-backward substitutions : {sol.nsol:d}\")\n",
    "    \n",
    "plot_radau_sol()"
   ]
  }
 ],
 "metadata": {
  "kernelspec": {
   "display_name": "Python 3",
   "language": "python",
   "name": "python3"
  },
  "language_info": {
   "codemirror_mode": {
    "name": "ipython",
    "version": 3
   },
   "file_extension": ".py",
   "mimetype": "text/x-python",
   "name": "python",
   "nbconvert_exporter": "python",
   "pygments_lexer": "ipython3",
   "version": "3.6.4"
  }
 },
 "nbformat": 4,
 "nbformat_minor": 2
}
